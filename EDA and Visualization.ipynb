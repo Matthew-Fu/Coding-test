{
  "nbformat": 4,
  "nbformat_minor": 0,
  "metadata": {
    "colab": {
      "name": "Untitled7.ipynb",
      "provenance": [],
      "collapsed_sections": [],
      "authorship_tag": "ABX9TyMQBWvnnqumsPf29aeI9dWz",
      "include_colab_link": true
    },
    "kernelspec": {
      "name": "python3",
      "display_name": "Python 3"
    },
    "language_info": {
      "name": "python"
    }
  },
  "cells": [
    {
      "cell_type": "markdown",
      "metadata": {
        "id": "view-in-github",
        "colab_type": "text"
      },
      "source": [
        "<a href=\"https://colab.research.google.com/github/Matthew-Fu/Coding-test-Move-rating-perdiction/blob/main/EDA%20and%20Visualization.ipynb\" target=\"_parent\"><img src=\"https://colab.research.google.com/assets/colab-badge.svg\" alt=\"Open In Colab\"/></a>"
      ]
    },
    {
      "cell_type": "code",
      "execution_count": 22,
      "metadata": {
        "colab": {
          "resources": {
            "http://localhost:8080/nbextensions/google.colab/files.js": {
              "data": "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",
              "ok": true,
              "headers": [
                [
                  "content-type",
                  "application/javascript"
                ]
              ],
              "status": 200,
              "status_text": ""
            }
          },
          "base_uri": "https://localhost:8080/",
          "height": 74
        },
        "id": "fu421HPI17gr",
        "outputId": "e769a8fe-b1bf-41d4-864f-87450fa3710f"
      },
      "outputs": [
        {
          "output_type": "display_data",
          "data": {
            "text/html": [
              "\n",
              "     <input type=\"file\" id=\"files-ba5f064a-8065-4291-9069-68339128c9cb\" name=\"files[]\" multiple disabled\n",
              "        style=\"border:none\" />\n",
              "     <output id=\"result-ba5f064a-8065-4291-9069-68339128c9cb\">\n",
              "      Upload widget is only available when the cell has been executed in the\n",
              "      current browser session. Please rerun this cell to enable.\n",
              "      </output>\n",
              "      <script src=\"/nbextensions/google.colab/files.js\"></script> "
            ],
            "text/plain": [
              "<IPython.core.display.HTML object>"
            ]
          },
          "metadata": {}
        },
        {
          "output_type": "stream",
          "name": "stdout",
          "text": [
            "Saving movie_metadata.csv to movie_metadata (1).csv\n"
          ]
        }
      ],
      "source": [
        "from google.colab import files\n",
        "uploaded = files.upload()"
      ]
    },
    {
      "cell_type": "code",
      "source": [
        "import pandas as pd\n",
        "import io\n",
        "df1 = pd.read_csv(io.BytesIO(uploaded['movie_metadata.csv']))"
      ],
      "metadata": {
        "id": "sCbnJ9Io3Pia"
      },
      "execution_count": 23,
      "outputs": []
    },
    {
      "cell_type": "code",
      "source": [
        "# print(df1)\n",
        "# print(type(df1))\n",
        "# print(df1.columns.values)"
      ],
      "metadata": {
        "colab": {
          "base_uri": "https://localhost:8080/"
        },
        "id": "ICDAWn1J3fj-",
        "outputId": "d4b28fdf-54a9-4eda-c757-78798b96e9f7"
      },
      "execution_count": 26,
      "outputs": [
        {
          "output_type": "stream",
          "name": "stdout",
          "text": [
            "      color      director_name  ...  aspect_ratio  movie_facebook_likes\n",
            "0     Color      James Cameron  ...          1.78                 33000\n",
            "1     Color     Gore Verbinski  ...          2.35                     0\n",
            "2     Color         Sam Mendes  ...          2.35                 85000\n",
            "3     Color  Christopher Nolan  ...          2.35                164000\n",
            "4       NaN        Doug Walker  ...           NaN                     0\n",
            "...     ...                ...  ...           ...                   ...\n",
            "5038  Color        Scott Smith  ...           NaN                    84\n",
            "5039  Color                NaN  ...         16.00                 32000\n",
            "5040  Color   Benjamin Roberds  ...           NaN                    16\n",
            "5041  Color        Daniel Hsia  ...          2.35                   660\n",
            "5042  Color           Jon Gunn  ...          1.85                   456\n",
            "\n",
            "[5043 rows x 28 columns]\n",
            "<class 'pandas.core.frame.DataFrame'>\n",
            "['color' 'director_name' 'num_critic_for_reviews' 'duration'\n",
            " 'director_facebook_likes' 'actor_3_facebook_likes' 'actor_2_name'\n",
            " 'actor_1_facebook_likes' 'gross' 'genres' 'actor_1_name' 'movie_title'\n",
            " 'num_voted_users' 'cast_total_facebook_likes' 'actor_3_name'\n",
            " 'facenumber_in_poster' 'plot_keywords' 'movie_imdb_link'\n",
            " 'num_user_for_reviews' 'language' 'country' 'content_rating' 'budget'\n",
            " 'title_year' 'actor_2_facebook_likes' 'imdb_score' 'aspect_ratio'\n",
            " 'movie_facebook_likes']\n"
          ]
        }
      ]
    },
    {
      "cell_type": "markdown",
      "source": [
        "There are 28 columns. We need to select the most useful features to do the visualization and prediction.\n",
        "\n",
        "First, keep the numerical columns, drop the non-numerical and non-related columns, or we should assume the value to those columns, for example color (0/1), language (0/1), 'plot_keywords' and country.\n",
        "\n",
        "Second, some columns like director_name, actor_2_name, actor_1_name are either difficult to get the patterns or related to other columns like 'director_facebook_likes', 'actor_2_facebook_likes' and 'actor_1_facebook_likes'.\n",
        "So we could remove those colums. \n",
        "\n",
        "Third, the movie_imdb_link, movie_title should be removed for the purpose of predicting the movie rating.\n",
        "\n",
        "Finally, some columns are numerical but useless in prediction, like 'duration', 'facenumber_in_poster', 'title_year'."
      ],
      "metadata": {
        "id": "Mm4JqJkKVhx2"
      }
    },
    {
      "cell_type": "code",
      "source": [
        "df_color = df1.groupby('color').size()\n",
        "print(df_color)"
      ],
      "metadata": {
        "colab": {
          "base_uri": "https://localhost:8080/"
        },
        "id": "1h7ff5bhvyb1",
        "outputId": "1c12137b-371f-4151-9d2b-bb7167e055c4"
      },
      "execution_count": 81,
      "outputs": [
        {
          "output_type": "stream",
          "name": "stdout",
          "text": [
            "color\n",
            " Black and White     209\n",
            "Color               4815\n",
            "dtype: int64\n"
          ]
        }
      ]
    },
    {
      "cell_type": "code",
      "source": [
        "df_color.plot.pie(labels=['Black and White', 'Color'])"
      ],
      "metadata": {
        "colab": {
          "base_uri": "https://localhost:8080/",
          "height": 266
        },
        "id": "ZuZAyBwpxEYh",
        "outputId": "7acb1c1b-f9fe-46c0-ba01-9508847ed72a"
      },
      "execution_count": 83,
      "outputs": [
        {
          "output_type": "execute_result",
          "data": {
            "text/plain": [
              "<matplotlib.axes._subplots.AxesSubplot at 0x7fced6986890>"
            ]
          },
          "metadata": {},
          "execution_count": 83
        },
        {
          "output_type": "display_data",
          "data": {
            "image/png": "[encoded data removed]",
            "text/plain": [
              "<Figure size 432x288 with 1 Axes>"
            ]
          },
          "metadata": {}
        }
      ]
    },
    {
      "cell_type": "code",
      "source": [
        "df_language = df1.groupby('language').size()\n",
        "print(df_language)"
      ],
      "metadata": {
        "colab": {
          "base_uri": "https://localhost:8080/"
        },
        "id": "GiVppl-RxWO7",
        "outputId": "c286b2d6-d684-4865-fffb-a60dd093b72e"
      },
      "execution_count": 85,
      "outputs": [
        {
          "output_type": "stream",
          "name": "stdout",
          "text": [
            "language\n",
            "Aboriginal       2\n",
            "Arabic           5\n",
            "Aramaic          1\n",
            "Bosnian          1\n",
            "Cantonese       11\n",
            "Chinese          3\n",
            "Czech            1\n",
            "Danish           5\n",
            "Dari             2\n",
            "Dutch            4\n",
            "Dzongkha         1\n",
            "English       4704\n",
            "Filipino         1\n",
            "French          73\n",
            "German          19\n",
            "Greek            1\n",
            "Hebrew           5\n",
            "Hindi           28\n",
            "Hungarian        1\n",
            "Icelandic        2\n",
            "Indonesian       2\n",
            "Italian         11\n",
            "Japanese        18\n",
            "Kannada          1\n",
            "Kazakh           1\n",
            "Korean           8\n",
            "Mandarin        26\n",
            "Maya             1\n",
            "Mongolian        1\n",
            "None             2\n",
            "Norwegian        4\n",
            "Panjabi          1\n",
            "Persian          4\n",
            "Polish           4\n",
            "Portuguese       8\n",
            "Romanian         2\n",
            "Russian         11\n",
            "Slovenian        1\n",
            "Spanish         40\n",
            "Swahili          1\n",
            "Swedish          5\n",
            "Tamil            1\n",
            "Telugu           1\n",
            "Thai             3\n",
            "Urdu             1\n",
            "Vietnamese       1\n",
            "Zulu             2\n",
            "dtype: int64\n"
          ]
        }
      ]
    },
    {
      "cell_type": "code",
      "source": [
        "df_color.plot.pie(labels=['Other', 'English'])"
      ],
      "metadata": {
        "colab": {
          "base_uri": "https://localhost:8080/",
          "height": 266
        },
        "id": "62MY9DCTxmdp",
        "outputId": "1f9af245-8c52-4566-a763-a7ed786da0c6"
      },
      "execution_count": 87,
      "outputs": [
        {
          "output_type": "execute_result",
          "data": {
            "text/plain": [
              "<matplotlib.axes._subplots.AxesSubplot at 0x7fced6835150>"
            ]
          },
          "metadata": {},
          "execution_count": 87
        },
        {
          "output_type": "display_data",
          "data": {
            "image/png": "[encoded data removed]",
            "text/plain": [
              "<Figure size 432x288 with 1 Axes>"
            ]
          },
          "metadata": {}
        }
      ]
    },
    {
      "cell_type": "code",
      "source": [
        "# drop 'color', 'language', 'country', 'plot_keywords' columns\n",
        "df2 = df1.drop(['color', 'language', 'country', 'plot_keywords'], axis = 1)"
      ],
      "metadata": {
        "id": "-7vvVieYVqEO"
      },
      "execution_count": 32,
      "outputs": []
    },
    {
      "cell_type": "code",
      "source": [
        "# print(df2)\n",
        "# print(df2.columns.values)"
      ],
      "metadata": {
        "colab": {
          "base_uri": "https://localhost:8080/"
        },
        "id": "dt55fwtRZDfZ",
        "outputId": "00eb69ab-3270-4e66-e7e0-0114b4e9e059"
      },
      "execution_count": 34,
      "outputs": [
        {
          "output_type": "stream",
          "name": "stdout",
          "text": [
            "          director_name  ...  movie_facebook_likes\n",
            "0         James Cameron  ...                 33000\n",
            "1        Gore Verbinski  ...                     0\n",
            "2            Sam Mendes  ...                 85000\n",
            "3     Christopher Nolan  ...                164000\n",
            "4           Doug Walker  ...                     0\n",
            "...                 ...  ...                   ...\n",
            "5038        Scott Smith  ...                    84\n",
            "5039                NaN  ...                 32000\n",
            "5040   Benjamin Roberds  ...                    16\n",
            "5041        Daniel Hsia  ...                   660\n",
            "5042           Jon Gunn  ...                   456\n",
            "\n",
            "[5043 rows x 24 columns]\n",
            "['director_name' 'num_critic_for_reviews' 'duration'\n",
            " 'director_facebook_likes' 'actor_3_facebook_likes' 'actor_2_name'\n",
            " 'actor_1_facebook_likes' 'gross' 'genres' 'actor_1_name' 'movie_title'\n",
            " 'num_voted_users' 'cast_total_facebook_likes' 'actor_3_name'\n",
            " 'facenumber_in_poster' 'movie_imdb_link' 'num_user_for_reviews'\n",
            " 'content_rating' 'budget' 'title_year' 'actor_2_facebook_likes'\n",
            " 'imdb_score' 'aspect_ratio' 'movie_facebook_likes']\n"
          ]
        }
      ]
    },
    {
      "cell_type": "code",
      "source": [
        "# drop 'director_name', 'actor_2_name', 'actor_1_name', 'actor_3_name' columns\n",
        "df3 = df2.drop(['director_name', 'actor_2_name', 'actor_1_name', 'actor_3_name'], axis = 1)"
      ],
      "metadata": {
        "id": "LFrmzcIycK-s"
      },
      "execution_count": 35,
      "outputs": []
    },
    {
      "cell_type": "code",
      "source": [
        "# print(df3)\n",
        "# print(df3.columns.values)"
      ],
      "metadata": {
        "colab": {
          "base_uri": "https://localhost:8080/"
        },
        "id": "5lmBRg2uehLi",
        "outputId": "818d913f-ea40-4302-94e8-c06a632bad74"
      },
      "execution_count": 36,
      "outputs": [
        {
          "output_type": "stream",
          "name": "stdout",
          "text": [
            "      num_critic_for_reviews  duration  ...  aspect_ratio  movie_facebook_likes\n",
            "0                      723.0     178.0  ...          1.78                 33000\n",
            "1                      302.0     169.0  ...          2.35                     0\n",
            "2                      602.0     148.0  ...          2.35                 85000\n",
            "3                      813.0     164.0  ...          2.35                164000\n",
            "4                        NaN       NaN  ...           NaN                     0\n",
            "...                      ...       ...  ...           ...                   ...\n",
            "5038                     1.0      87.0  ...           NaN                    84\n",
            "5039                    43.0      43.0  ...         16.00                 32000\n",
            "5040                    13.0      76.0  ...           NaN                    16\n",
            "5041                    14.0     100.0  ...          2.35                   660\n",
            "5042                    43.0      90.0  ...          1.85                   456\n",
            "\n",
            "[5043 rows x 20 columns]\n",
            "['num_critic_for_reviews' 'duration' 'director_facebook_likes'\n",
            " 'actor_3_facebook_likes' 'actor_1_facebook_likes' 'gross' 'genres'\n",
            " 'movie_title' 'num_voted_users' 'cast_total_facebook_likes'\n",
            " 'facenumber_in_poster' 'movie_imdb_link' 'num_user_for_reviews'\n",
            " 'content_rating' 'budget' 'title_year' 'actor_2_facebook_likes'\n",
            " 'imdb_score' 'aspect_ratio' 'movie_facebook_likes']\n"
          ]
        }
      ]
    },
    {
      "cell_type": "code",
      "source": [
        "plot_facenumber = df3['facenumber_in_poster'].plot.hist(color = 'green', range = (0, 10))"
      ],
      "metadata": {
        "colab": {
          "base_uri": "https://localhost:8080/",
          "height": 265
        },
        "id": "7_H9uAlAyJ9k",
        "outputId": "c90df094-d04a-4ff5-e934-d6a217428f17"
      },
      "execution_count": 91,
      "outputs": [
        {
          "output_type": "display_data",
          "data": {
            "image/png": "[encoded data removed]",
            "text/plain": [
              "<Figure size 432x288 with 1 Axes>"
            ]
          },
          "metadata": {
            "needs_background": "light"
          }
        }
      ]
    },
    {
      "cell_type": "code",
      "source": [
        "# Remove the 'movie_imdb_link' and 'movie_title'\n",
        "df4 = df3.drop(['movie_imdb_link', 'movie_title', 'duration', 'content_rating','facenumber_in_poster', 'title_year', 'genres', 'aspect_ratio'], axis = 1)"
      ],
      "metadata": {
        "id": "QAoEE22PfPt5"
      },
      "execution_count": 46,
      "outputs": []
    },
    {
      "cell_type": "code",
      "source": [
        "# print(df4)\n",
        "# print(df4.columns.values)"
      ],
      "metadata": {
        "colab": {
          "base_uri": "https://localhost:8080/"
        },
        "id": "z582RRRTfvby",
        "outputId": "7f2f4810-1019-4e57-bb57-fd7573909a56"
      },
      "execution_count": 47,
      "outputs": [
        {
          "output_type": "stream",
          "name": "stdout",
          "text": [
            "      num_critic_for_reviews  ...  movie_facebook_likes\n",
            "0                      723.0  ...                 33000\n",
            "1                      302.0  ...                     0\n",
            "2                      602.0  ...                 85000\n",
            "3                      813.0  ...                164000\n",
            "4                        NaN  ...                     0\n",
            "...                      ...  ...                   ...\n",
            "5038                     1.0  ...                    84\n",
            "5039                    43.0  ...                 32000\n",
            "5040                    13.0  ...                    16\n",
            "5041                    14.0  ...                   660\n",
            "5042                    43.0  ...                   456\n",
            "\n",
            "[5043 rows x 12 columns]\n",
            "['num_critic_for_reviews' 'director_facebook_likes'\n",
            " 'actor_3_facebook_likes' 'actor_1_facebook_likes' 'gross'\n",
            " 'num_voted_users' 'cast_total_facebook_likes' 'num_user_for_reviews'\n",
            " 'budget' 'actor_2_facebook_likes' 'imdb_score' 'movie_facebook_likes']\n"
          ]
        }
      ]
    },
    {
      "cell_type": "code",
      "source": [
        "# There are some movies having no budgets or gross, we remove these rows.\n",
        "df5 = df4.dropna(axis=0, how='any')\n",
        "# print(df5)\n",
        "# print(df5.columns.values)"
      ],
      "metadata": {
        "colab": {
          "base_uri": "https://localhost:8080/"
        },
        "id": "9SK3LnTcfvYF",
        "outputId": "11a9333c-4478-4cb4-fdeb-5f175c24c4a7"
      },
      "execution_count": 49,
      "outputs": [
        {
          "output_type": "stream",
          "name": "stdout",
          "text": [
            "      num_critic_for_reviews  ...  movie_facebook_likes\n",
            "0                      723.0  ...                 33000\n",
            "1                      302.0  ...                     0\n",
            "2                      602.0  ...                 85000\n",
            "3                      813.0  ...                164000\n",
            "5                      462.0  ...                 24000\n",
            "...                      ...  ...                   ...\n",
            "5033                   143.0  ...                 19000\n",
            "5034                    35.0  ...                    74\n",
            "5035                    56.0  ...                     0\n",
            "5037                    14.0  ...                   413\n",
            "5042                    43.0  ...                   456\n",
            "\n",
            "[3880 rows x 12 columns]\n",
            "['num_critic_for_reviews' 'director_facebook_likes'\n",
            " 'actor_3_facebook_likes' 'actor_1_facebook_likes' 'gross'\n",
            " 'num_voted_users' 'cast_total_facebook_likes' 'num_user_for_reviews'\n",
            " 'budget' 'actor_2_facebook_likes' 'imdb_score' 'movie_facebook_likes']\n"
          ]
        }
      ]
    },
    {
      "cell_type": "code",
      "source": [
        "# Then we visualize the preprocessed data.\n",
        "# The relationship between 'gross' and 'imdb_score'\n",
        "df55 = df5.drop(index = df5.gross[df5.gross == 0].index)\n",
        "df_imdb = df55.sort_values(by=['imdb_score'])\n",
        "# print(df55)\n",
        "plot1 = df_imdb.plot.line(x='gross', y='imdb_score')\n",
        "# The larger gross, the more likely to have high imdb_scores."
      ],
      "metadata": {
        "colab": {
          "base_uri": "https://localhost:8080/",
          "height": 530
        },
        "id": "wwGYzC9Tjka5",
        "outputId": "4177ae7c-2379-4545-df95-177f6c59dc7b"
      },
      "execution_count": 64,
      "outputs": [
        {
          "output_type": "stream",
          "name": "stdout",
          "text": [
            "      num_critic_for_reviews  ...  movie_facebook_likes\n",
            "0                      723.0  ...                 33000\n",
            "1                      302.0  ...                     0\n",
            "2                      602.0  ...                 85000\n",
            "3                      813.0  ...                164000\n",
            "5                      462.0  ...                 24000\n",
            "...                      ...  ...                   ...\n",
            "5033                   143.0  ...                 19000\n",
            "5034                    35.0  ...                    74\n",
            "5035                    56.0  ...                     0\n",
            "5037                    14.0  ...                   413\n",
            "5042                    43.0  ...                   456\n",
            "\n",
            "[3880 rows x 12 columns]\n"
          ]
        },
        {
          "output_type": "display_data",
          "data": {
            "image/png": "[encoded data removed]",
            "text/plain": [
              "<Figure size 432x288 with 1 Axes>"
            ]
          },
          "metadata": {
            "needs_background": "light"
          }
        }
      ]
    },
    {
      "cell_type": "code",
      "source": [
        "# The relationship between 'facebook_likes' and 'imdb_score'\n",
        "df6 = df5.drop(index = df5.movie_facebook_likes[df5.movie_facebook_likes == 0].index)\n",
        "df_facebook_likes = df6.sort_values(by=['imdb_score'])\n",
        "# print(df6)\n",
        "plot2 = df_facebook_likes.plot.line(y='movie_facebook_likes', x='imdb_score')\n",
        "# The more facebook likes, the more likely to have high imdb_scores."
      ],
      "metadata": {
        "colab": {
          "base_uri": "https://localhost:8080/",
          "height": 280
        },
        "id": "87hbIO_HnOsU",
        "outputId": "b32b6d6d-252c-4531-a48f-e2b0cbd2bff6"
      },
      "execution_count": 61,
      "outputs": [
        {
          "output_type": "display_data",
          "data": {
            "image/png": "[encoded data removed]",
            "text/plain": [
              "<Figure size 432x288 with 1 Axes>"
            ]
          },
          "metadata": {
            "needs_background": "light"
          }
        }
      ]
    },
    {
      "cell_type": "code",
      "source": [
        "plot3 = df5['imdb_score'].plot.hist(color = 'green')"
      ],
      "metadata": {
        "colab": {
          "base_uri": "https://localhost:8080/",
          "height": 265
        },
        "id": "41IJfxvCrgc9",
        "outputId": "968af05a-b95e-42e3-c650-a05d51a2631f"
      },
      "execution_count": 72,
      "outputs": [
        {
          "output_type": "display_data",
          "data": {
            "image/png": "[encoded data removed]",
            "text/plain": [
              "<Figure size 432x288 with 1 Axes>"
            ]
          },
          "metadata": {
            "needs_background": "light"
          }
        }
      ]
    },
    {
      "cell_type": "code",
      "source": [
        "plot4 = df5['num_critic_for_reviews'].plot.hist(color = 'blue')"
      ],
      "metadata": {
        "colab": {
          "base_uri": "https://localhost:8080/",
          "height": 265
        },
        "id": "08BBTynStu3Y",
        "outputId": "dc10123c-2549-442c-ca55-ff4a03d7c5dc"
      },
      "execution_count": 74,
      "outputs": [
        {
          "output_type": "display_data",
          "data": {
            "image/png": "[encoded data removed]",
            "text/plain": [
              "<Figure size 432x288 with 1 Axes>"
            ]
          },
          "metadata": {
            "needs_background": "light"
          }
        }
      ]
    },
    {
      "cell_type": "code",
      "source": [
        ""
      ],
      "metadata": {
        "id": "L6tX-HJIt5uH"
      },
      "execution_count": null,
      "outputs": []
    }
  ]
}